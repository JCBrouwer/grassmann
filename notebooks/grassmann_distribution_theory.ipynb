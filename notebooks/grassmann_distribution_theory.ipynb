{
 "cells": [
  {
   "cell_type": "code",
   "execution_count": 2,
   "id": "c2b4a56d-3f9a-4215-91c0-16a1bd05e62e",
   "metadata": {},
   "outputs": [
    {
     "name": "stdout",
     "output_type": "stream",
     "text": [
      "The autoreload extension is already loaded. To reload it, use:\n",
      "  %reload_ext autoreload\n"
     ]
    }
   ],
   "source": [
    "%load_ext autoreload\n",
    "%autoreload 2\n",
    "\n",
    "import numpy as np\n",
    "import scipy as scp\n",
    "import scipy.special\n",
    "\n",
    "import sympy as sy\n",
    "\n",
    "import torch\n",
    "\n",
    "import matplotlib.pyplot as plt\n",
    "import seaborn as sns\n",
    "\n",
    "from grassmann_distribution.utils import check_valid_sigma\n",
    "from grassmann_distribution.GrassmannDistribution import GrassmannBinary"
   ]
  },
  {
   "cell_type": "markdown",
   "id": "22583634-e6a5-453e-806d-59982581d731",
   "metadata": {},
   "source": [
    "## Sympy calculations"
   ]
  },
  {
   "cell_type": "code",
   "execution_count": 9,
   "id": "87fe4c33-3a37-4a69-9244-53778f9cdbcb",
   "metadata": {},
   "outputs": [],
   "source": [
    "a, b, c, d, e, f, g, h, i = sy.symbols((\"a\", \"b\", \"c\", \"d\", \"e\", \"f\", \"g\", \"h\", \"i\"))\n",
    "\n",
    "\n",
    "# b,c,f = sy.symbols(('b','c','f'))\n",
    "\n",
    "sigma01, sigma02, sigma12 = sy.symbols((\"sigma01\", \"sigma02\", \"sigma12\"))\n",
    "\n",
    "\n",
    "a = 0.8\n",
    "e = 0.5\n",
    "i = 0.2\n",
    "\n",
    "f = 0\n",
    "\n",
    "sigma01 = 0.07\n",
    "sigma12 = 0.0\n",
    "sigma02 = 0.07\n",
    "\n",
    "d = -sigma01 / b  # -\n",
    "g = sigma02 / c\n",
    "h = 0  # sigma12/f\n",
    "\n",
    "\n",
    "sigma = sy.Matrix([[a, b, c], [d, e, f], [g, h, i]])\n",
    "lambd = sigma**-1\n",
    "\n",
    "\n",
    "lambd_I = lambd - sy.eye(3)"
   ]
  },
  {
   "cell_type": "code",
   "execution_count": 10,
   "id": "69ecd87d-271d-4676-ae12-faeec224e3e1",
   "metadata": {},
   "outputs": [
    {
     "data": {
      "text/latex": [
       "$\\displaystyle \\left[\\begin{matrix}0.8 & b & c\\\\- \\frac{0.07}{b} & 0.5 & 0\\\\\\frac{0.07}{c} & 0 & 0.2\\end{matrix}\\right]$"
      ],
      "text/plain": [
       "Matrix([\n",
       "[    0.8,   b,   c],\n",
       "[-0.07/b, 0.5,   0],\n",
       "[ 0.07/c,   0, 0.2]])"
      ]
     },
     "execution_count": 10,
     "metadata": {},
     "output_type": "execute_result"
    }
   ],
   "source": [
    "sigma"
   ]
  },
  {
   "cell_type": "code",
   "execution_count": 11,
   "id": "10248f60-f3ea-4dfa-9b63-b3595f183a62",
   "metadata": {},
   "outputs": [
    {
     "data": {
      "text/latex": [
       "$\\displaystyle 1.71186440677966$"
      ],
      "text/plain": [
       "1.71186440677966"
      ]
     },
     "execution_count": 11,
     "metadata": {},
     "output_type": "execute_result"
    }
   ],
   "source": [
    "sy.det(lambd - sy.eye(3))"
   ]
  },
  {
   "cell_type": "code",
   "execution_count": 12,
   "id": "8d9097f4-41fe-4d64-9985-414620230ec6",
   "metadata": {},
   "outputs": [
    {
     "data": {
      "text/latex": [
       "$\\displaystyle \\left[\\begin{matrix}0.694915254237288 & - 3.38983050847458 b & - 8.47457627118644 c\\\\\\frac{0.23728813559322}{b} & 0.52542372881356 & - \\frac{1.1864406779661 c}{b}\\\\- \\frac{0.593220338983051}{c} & \\frac{1.1864406779661 b}{c} & 6.96610169491525\\end{matrix}\\right]$"
      ],
      "text/plain": [
       "Matrix([\n",
       "[   0.694915254237288, -3.38983050847458*b,  -8.47457627118644*c],\n",
       "[  0.23728813559322/b,    0.52542372881356, -1.1864406779661*c/b],\n",
       "[-0.593220338983051/c, 1.1864406779661*b/c,     6.96610169491525]])"
      ]
     },
     "execution_count": 12,
     "metadata": {},
     "output_type": "execute_result"
    }
   ],
   "source": [
    "lambd_I"
   ]
  },
  {
   "cell_type": "code",
   "execution_count": 13,
   "id": "3f2928cf-eca1-4d6d-90bc-09af9f0e1f45",
   "metadata": {},
   "outputs": [
    {
     "data": {
      "text/latex": [
       "$\\displaystyle -0.186440677966104$"
      ],
      "text/plain": [
       "-0.186440677966104"
      ]
     },
     "execution_count": 13,
     "metadata": {},
     "output_type": "execute_result"
    }
   ],
   "source": [
    "sy.det(lambd_I[(0, 2), (0, 2)])"
   ]
  },
  {
   "cell_type": "code",
   "execution_count": 14,
   "id": "51323b4f-8738-4a5e-9622-6bd4a368bf51",
   "metadata": {},
   "outputs": [
    {
     "data": {
      "text/latex": [
       "$\\displaystyle \\left[\\begin{matrix}0.694915254237288 & - 8.47457627118644 c\\\\- \\frac{0.593220338983051}{c} & 6.96610169491525\\end{matrix}\\right]$"
      ],
      "text/plain": [
       "Matrix([\n",
       "[   0.694915254237288, -8.47457627118644*c],\n",
       "[-0.593220338983051/c,    6.96610169491525]])"
      ]
     },
     "execution_count": 14,
     "metadata": {},
     "output_type": "execute_result"
    }
   ],
   "source": [
    "lambd_I[(0, 2), (0, 2)]"
   ]
  },
  {
   "cell_type": "markdown",
   "id": "db763bf0-acaa-4be4-a118-a6c82d9fd478",
   "metadata": {},
   "source": [
    "general solution of det(sigma**-1 - Id) for a 3x3 matrix: \n",
    "\n",
    "−𝑎𝑒𝑖+𝑎𝑒+𝑎𝑓ℎ+𝑎𝑖−𝑎+𝑏𝑑𝑖−𝑏𝑑−𝑏𝑓𝑔−𝑐𝑑ℎ+𝑐𝑒𝑔−𝑐𝑔+𝑒𝑖−𝑒−𝑓ℎ−𝑖+1) /(𝑎𝑒𝑖−𝑎𝑓ℎ−𝑏𝑑𝑖+𝑏𝑓𝑔+𝑐𝑑ℎ−𝑐𝑒𝑔)\n"
   ]
  },
  {
   "cell_type": "code",
   "execution_count": 15,
   "id": "ffab3962-1010-48e0-a8b6-24e62bba3e16",
   "metadata": {},
   "outputs": [
    {
     "name": "stdout",
     "output_type": "stream",
     "text": [
      "-1.71186440677966\n",
      "-0.936459909228441\n"
     ]
    }
   ],
   "source": [
    "a, b, c, d, e, f, g, h, i = sy.symbols((\"a\", \"b\", \"c\", \"d\", \"e\", \"f\", \"g\", \"h\", \"i\"))\n",
    "\n",
    "# a=0.6\n",
    "# e = 0.3\n",
    "# i=0.4\n",
    "\n",
    "# sigma01,sigma02,sigma12= sy.symbols(('sigma01','sigma02','sigma12'))\n",
    "\n",
    "\n",
    "a = 0.8\n",
    "e = 0.5\n",
    "i = 0.2\n",
    "\n",
    "sigma01 = 0.07\n",
    "sigma12 = 0.0\n",
    "sigma02 = 0.07\n",
    "\n",
    "d = -sigma01 / b\n",
    "g = sigma02 / c\n",
    "h = 0  # sigma12/f\n",
    "\n",
    "sigma = sy.Matrix([[a, b, c], [d, e, f], [g, h, i]])\n",
    "\n",
    "\n",
    "# general solution of det(sigma**-1 - Id) for a 3x3 matrix:\n",
    "det = (\n",
    "    -a * e * i\n",
    "    + a * e\n",
    "    + a * f * h\n",
    "    + a * i\n",
    "    - a\n",
    "    + b * d * i\n",
    "    - b * d\n",
    "    - b * f * g\n",
    "    - c * d * h\n",
    "    + c * e * g\n",
    "    - c * g\n",
    "    + e * i\n",
    "    - e\n",
    "    - f * h\n",
    "    - i\n",
    "    + 1\n",
    ") / (a * e * i - a * f * h - b * d * i + b * f * g + c * d * h - c * e * g)\n",
    "\n",
    "\n",
    "def det_eval(bcf):\n",
    "    return -(det.evalf(subs={\"b\": bcf[0], \"c\": bcf[1], \"f\": bcf[2]}))\n",
    "\n",
    "\n",
    "print(det_eval([sigma01**0.5, sigma02**0.5, sigma12**0.5]))\n",
    "print(det_eval([0.9, 1.6, 0.6]))"
   ]
  },
  {
   "cell_type": "code",
   "execution_count": 16,
   "id": "789c1b2b-1444-479e-802a-826828a6e52e",
   "metadata": {},
   "outputs": [
    {
     "data": {
      "text/latex": [
       "$\\displaystyle \\left[\\begin{matrix}0.8 & b & c\\\\- \\frac{0.07}{b} & 0.5 & f\\\\\\frac{0.07}{c} & 0 & 0.2\\end{matrix}\\right]$"
      ],
      "text/plain": [
       "Matrix([\n",
       "[    0.8,   b,   c],\n",
       "[-0.07/b, 0.5,   f],\n",
       "[ 0.07/c,   0, 0.2]])"
      ]
     },
     "execution_count": 16,
     "metadata": {},
     "output_type": "execute_result"
    }
   ],
   "source": [
    "sigma"
   ]
  },
  {
   "cell_type": "code",
   "execution_count": 18,
   "id": "99be7641-0192-4ec0-a0ff-cf7e1dfaa1df",
   "metadata": {},
   "outputs": [
    {
     "data": {
      "text/latex": [
       "$\\displaystyle \\frac{- \\frac{0.07 b f}{c} + 0.101}{\\frac{0.07 b f}{c} + 0.059}$"
      ],
      "text/plain": [
       "(-0.07*b*f/c + 0.101)/(0.07*b*f/c + 0.059)"
      ]
     },
     "execution_count": 18,
     "metadata": {},
     "output_type": "execute_result"
    }
   ],
   "source": [
    "det"
   ]
  },
  {
   "cell_type": "code",
   "execution_count": 57,
   "id": "90cc6f05-c8b9-4849-9d57-8d6943e633f0",
   "metadata": {},
   "outputs": [
    {
     "data": {
      "text/plain": [
       "[{c: -sqrt(b**2*f**2*sigma02/(sigma01*sigma12))},\n",
       " {c: sqrt(b**2*f**2*sigma02/(sigma01*sigma12))}]"
      ]
     },
     "execution_count": 57,
     "metadata": {},
     "output_type": "execute_result"
    }
   ],
   "source": [
    "# find max of det, dependent on c\n",
    "# solve partial derivative\n",
    "sy.solve(sy.diff(det, c), c, dict=True, set=True)"
   ]
  },
  {
   "cell_type": "code",
   "execution_count": 19,
   "id": "2527d915-0eae-4f05-b23a-fec08d495753",
   "metadata": {},
   "outputs": [
    {
     "name": "stdout",
     "output_type": "stream",
     "text": [
      "      fun: -1.7118644067573867\n",
      " hess_inv: array([[ 0.77469639, -0.04883901, -0.22530361],\n",
      "       [-0.04883901,  0.65860529, -0.04883901],\n",
      "       [-0.22530361, -0.04883901,  0.77469639]])\n",
      "      jac: array([-6.36279583e-06,  0.00000000e+00, -6.36279583e-06])\n",
      "  message: 'Optimization terminated successfully.'\n",
      "     nfev: 24\n",
      "      nit: 4\n",
      "     njev: 6\n",
      "   status: 0\n",
      "  success: True\n",
      "        x: array([-3.50114750e-06,  1.77069546e+00, -3.50114750e-06])\n",
      "-1.71186440675739\n"
     ]
    }
   ],
   "source": [
    "res = scp.optimize.minimize(det_eval, np.array([1, 1, 1]))\n",
    "print(res)\n",
    "\n",
    "print(det_eval(res.x))"
   ]
  },
  {
   "cell_type": "code",
   "execution_count": 23,
   "id": "ec33fdb8-275f-4bc3-b6a1-1d2ddae5d2eb",
   "metadata": {},
   "outputs": [
    {
     "name": "stdout",
     "output_type": "stream",
     "text": [
      "(tensor(True), tensor([1.4615, 0.5385, 0.6923, 5.9231, 0.8462, 0.2308, 4.6923]))\n",
      "sigma:\n",
      " tensor([[ 0.8000, -0.2236,  0.2236],\n",
      "        [ 0.2236,  0.5000,  0.0000],\n",
      "        [ 0.2236,  0.0000,  0.2000]])\n",
      "gr cov: \n",
      " tensor([[ 0.1600,  0.0500, -0.0500],\n",
      "        [ 0.0500,  0.2500, -0.0000],\n",
      "        [-0.0500, -0.0000,  0.1600]])\n",
      "gr corr: \n",
      " tensor([[ 1.0000,  0.2500, -0.3125],\n",
      "        [ 0.2500,  1.0000, -0.0000],\n",
      "        [-0.3125, -0.0000,  1.0000]])\n"
     ]
    }
   ],
   "source": [
    "\"\"\"\n",
    "test for arbitrary sigma\n",
    "\"\"\"\n",
    "dim = 3\n",
    "s = torch.eye(dim) * torch.tensor([0.8, 0.5, 0.2])\n",
    "\n",
    "s[0, 1] = 0.05**0.5\n",
    "s[0, 2] = 0.05**0.5\n",
    "s[1, 2] = 0.0**0.5\n",
    "\n",
    "\n",
    "for i in range(dim):\n",
    "    for j in range(i + 1, dim):\n",
    "        s[j, i] = s[i, j]\n",
    "\n",
    "\n",
    "s[0, 1] = -s[1, 0]\n",
    "# s[2,1] = -s[2,1]\n",
    "\n",
    "print(check_valid_sigma(s, return_dets=True))\n",
    "print(\"sigma:\\n\", s)\n",
    "\n",
    "gr = GrassmannBinary(s)\n",
    "print(\"gr cov: \\n\", gr.cov())\n",
    "print(\"gr corr: \\n\", gr.corr())"
   ]
  },
  {
   "cell_type": "code",
   "execution_count": 112,
   "id": "62827086-3f6c-4ba6-a6a4-d9e7bd8d28b0",
   "metadata": {},
   "outputs": [
    {
     "name": "stdout",
     "output_type": "stream",
     "text": [
      "(tensor(True), tensor([ 0.4662,  4.1316, 12.9286,  3.3985, 11.2632, 13.4624, 26.6579]))\n",
      "sigma:\n",
      " tensor([[0.6000, 0.6716, 1.3019],\n",
      "        [0.1787, 0.3000, 0.6716],\n",
      "        [0.0384, 0.0745, 0.4000]])\n",
      "gr cov: \n",
      " tensor([[ 0.2400, -0.1200, -0.0500],\n",
      "        [-0.1200,  0.2100, -0.0500],\n",
      "        [-0.0500, -0.0500,  0.2400]])\n",
      "gr corr: \n",
      " tensor([[ 1.0000, -0.5345, -0.2083],\n",
      "        [-0.5345,  1.0000, -0.2227],\n",
      "        [-0.2083, -0.2227,  1.0000]])\n"
     ]
    }
   ],
   "source": [
    "\"\"\"\n",
    "test for arbitrary sigma\n",
    "\"\"\"\n",
    "dim = 3\n",
    "s = torch.eye(dim) * torch.tensor([0.6, 0.3, 0.4])\n",
    "\n",
    "sigma1 = 0.12\n",
    "sigma2 = 0.05\n",
    "sigma3 = 0.05\n",
    "\n",
    "\n",
    "s[0, 1] = 0.6715647\n",
    "s[0, 2] = 1.30192195\n",
    "s[1, 2] = 0.6715647\n",
    "\n",
    "s[1, 0] = sigma1 / s[0, 1]\n",
    "s[2, 0] = sigma2 / s[0, 2]\n",
    "s[2, 1] = sigma3 / s[1, 2]\n",
    "\n",
    "print(check_valid_sigma(s, return_dets=True))\n",
    "print(\"sigma:\\n\", s)\n",
    "\n",
    "gr = GrassmannBinary(s)\n",
    "print(\"gr cov: \\n\", gr.cov())\n",
    "print(\"gr corr: \\n\", gr.corr())"
   ]
  },
  {
   "cell_type": "markdown",
   "id": "a5bc0b99-a045-42ae-a01c-b13ffa289b5f",
   "metadata": {},
   "source": [
    "## Boundaries on Cov for 2d distribution"
   ]
  },
  {
   "cell_type": "code",
   "execution_count": 2,
   "id": "3ea13713-0212-4495-bbfa-55a0c93be683",
   "metadata": {},
   "outputs": [],
   "source": [
    "def cov_limit_CS(a, d):\n",
    "    \"\"\"\n",
    "    calculates the limits on |Cov| for ANY binary 2d distribution.\n",
    "    derived from Cauchy-Schwarz inequality\n",
    "    \"\"\"\n",
    "    return ((-(a**2) + a) * (-(d**2) + d)) ** 0.5\n",
    "\n",
    "\n",
    "def cov_lower_limit(a, d):\n",
    "    \"\"\"\n",
    "    limit based on det(Lambda-1)>0\n",
    "    \"\"\"\n",
    "    return -1 - a * d + a + d, -a * d\n",
    "\n",
    "\n",
    "def cov_upper_limit(a, d):\n",
    "    \"\"\"\n",
    "    limit based on (Lambda11 - 1) >=0  and (Lambda22 - 1) >=0\n",
    "    ---\n",
    "    returns upper bound for cov\n",
    "    \"\"\"\n",
    "    return d - a * d, a - a * d"
   ]
  },
  {
   "cell_type": "code",
   "execution_count": 3,
   "id": "e2f80705-df94-4405-996e-c1cfcbc87678",
   "metadata": {},
   "outputs": [],
   "source": [
    "def upper_limit_DG(a, d):\n",
    "    res = np.zeros(len(a))\n",
    "    for i in range(len(a)):\n",
    "        res[i] = min(d * (1 - a[i]), a[i] * (1 - d))\n",
    "    return res, res\n",
    "\n",
    "\n",
    "def lower_limit_DG(a, d):\n",
    "    res = np.zeros(len(a))\n",
    "    for i in range(len(a)):\n",
    "        res[i] = max(-a[i] * d, -(1 - a[i]) * (1 - d))\n",
    "    return res, res"
   ]
  },
  {
   "cell_type": "code",
   "execution_count": 4,
   "id": "bb777771-f50d-4db8-9939-14b28c32a283",
   "metadata": {},
   "outputs": [],
   "source": [
    "def plot_rectangle(\n",
    "    x,\n",
    "    limit_CS,\n",
    "    limit_upper,\n",
    "    limit_lower,\n",
    "    c1=\"lightgrey\",\n",
    "    label_fill=None,\n",
    "    labels=True,\n",
    "    alpha1=0.5,\n",
    "    c_upper=\"green\",\n",
    "    c_lower=sns.color_palette()[0],\n",
    "):\n",
    "    colors = sns.color_palette()\n",
    "\n",
    "    # plot ellipse\n",
    "    if labels:\n",
    "        plt.plot(x, limit_CS, label=\"Cauchy-Schwarz\", color=\"black\", ls=\":\")\n",
    "    else:\n",
    "        plt.plot(x, limit_CS, color=\"black\", ls=\":\")\n",
    "    plt.plot(x, -limit_CS, color=\"black\", ls=\":\")\n",
    "    plt.fill_between(x, -limit_CS, limit_CS, color=\"grey\", alpha=0.2)\n",
    "\n",
    "    mask = limit_upper[0] < limit_CS\n",
    "    if labels:\n",
    "        plt.plot(x[mask], limit_upper[0][mask], label=\"$(\\Lambda_{11}-1),(\\Lambda_{22}-1)\\geq 0$\", c=\"green\")\n",
    "    else:\n",
    "        plt.plot(x[mask], limit_upper[0][mask], c=c_upper)\n",
    "    mask = limit_upper[0] < limit_CS + 0.002\n",
    "    plt.fill_between(x[mask], limit_upper[0][mask], y2=0, color=c1, lw=0, alpha=alpha1)\n",
    "\n",
    "    mask = limit_upper[1] < limit_CS\n",
    "    plt.plot(x[mask], limit_upper[1][mask], c=c_upper)\n",
    "    plt.fill_between(x[mask], limit_upper[1][mask], y2=0, color=c1, lw=0, alpha=alpha1)\n",
    "\n",
    "    ##############\n",
    "    # lower limits\n",
    "    mask = limit_lower[0] > -limit_CS\n",
    "    if labels:\n",
    "        plt.plot(x[mask], limit_lower[0][mask], label=\"$det(\\Lambda-1)\\geq 0$\", c=c_lower)\n",
    "    else:\n",
    "        plt.plot(x[mask], limit_lower[0][mask], c=c_lower)\n",
    "    mask = limit_lower[0] > -limit_CS - 0.002\n",
    "    plt.fill_between(x[mask], limit_lower[0][mask], y2=0, color=c1, lw=0, alpha=alpha1)\n",
    "\n",
    "    mask = limit_lower[1] > -limit_CS\n",
    "    plt.plot(x[mask], limit_lower[1][mask], c=colors[0])\n",
    "    plt.fill_between(x[mask], limit_lower[1][mask], y2=0, color=c1, lw=0, label=label_fill, alpha=alpha1)"
   ]
  },
  {
   "cell_type": "code",
   "execution_count": 5,
   "id": "b3aba7b8-86ae-4139-a69f-4817641a45a7",
   "metadata": {},
   "outputs": [
    {
     "data": {
      "text/plain": [
       "[Text(0, -0.30000000000000004, ''),\n",
       " Text(0, -0.20000000000000004, ''),\n",
       " Text(0, -0.10000000000000003, ''),\n",
       " Text(0, 0.0, ''),\n",
       " Text(0, 0.09999999999999998, ''),\n",
       " Text(0, 0.19999999999999996, ''),\n",
       " Text(0, 0.30000000000000004, '')]"
      ]
     },
     "execution_count": 5,
     "metadata": {},
     "output_type": "execute_result"
    },
    {
     "data": {
      "image/png": "[encoded data removed]",
      "text/plain": [
       "<Figure size 432x216 with 2 Axes>"
      ]
     },
     "metadata": {
      "needs_background": "light"
     },
     "output_type": "display_data"
    }
   ],
   "source": [
    "#### sns.set_context('notebook')\n",
    "\n",
    "\n",
    "# a2 = 0.25\n",
    "# a3 = 0.1\n",
    "\n",
    "d = np.arange(0, 1.001, 0.001)\n",
    "\n",
    "a1 = 0.5\n",
    "limit_CS = cov_limit_CS(a1, d)\n",
    "limit_upper = cov_upper_limit(a1, d)\n",
    "limit_lower = cov_lower_limit(a1, d)\n",
    "\n",
    "\n",
    "plt.figure(1, figsize=(6, 3))\n",
    "\n",
    "plt.subplot(121)\n",
    "plt.title(\"$p_1=0.5$\")\n",
    "\n",
    "plt.axhline(0, color=\"grey\", ls=\"-\", alpha=0.5)\n",
    "plot_rectangle(d, limit_CS, limit_upper, limit_lower, c1=\"orange\", label_fill=\"$p_2 = 0.5$\", alpha1=0.2)\n",
    "\n",
    "\n",
    "plt.ylim(-0.3, 0.3)\n",
    "plt.xlabel(\"$p_2$\")\n",
    "plt.ylabel(\"valid Cov($X_1$,$X_2$ | $p_1$ ) \")\n",
    "sns.despine()\n",
    "# plt.legend(loc='center left', bbox_to_anchor=(1, 0.5))\n",
    "\n",
    "######################################################3\n",
    "plt.subplot(122)\n",
    "plt.title(\"$p_1=0.2$\")\n",
    "plt.axhline(0, color=\"grey\", ls=\"-\", alpha=0.5)\n",
    "\n",
    "a2 = 0.2\n",
    "limit_CS = cov_limit_CS(a2, d)\n",
    "limit_upper = cov_upper_limit(a2, d)\n",
    "limit_lower = cov_lower_limit(a2, d)\n",
    "\n",
    "plot_rectangle(\n",
    "    d, limit_CS, limit_upper, limit_lower, c1=\"orange\", label_fill=\"Grassmann formalism\", labels=True, alpha1=0.2\n",
    ")\n",
    "\n",
    "\n",
    "plt.ylim(-0.3, 0.3)\n",
    "plt.xlabel(\"$p_2$\")\n",
    "sns.despine()\n",
    "lgd = plt.legend(loc=\"center left\", bbox_to_anchor=(1, 0.5))\n",
    "ax = plt.gca()\n",
    "ax.set_yticklabels([])\n",
    "\n",
    "# plt.savefig(\"figures/cov_grassmann.png\",dpi=200, bbox_extra_artists=(lgd,), bbox_inches='tight')"
   ]
  },
  {
   "cell_type": "code",
   "execution_count": 6,
   "id": "2736fe0d-7f1f-42a6-8cc4-d6899c532aa3",
   "metadata": {},
   "outputs": [
    {
     "data": {
      "text/plain": [
       "<matplotlib.legend.Legend at 0x7ffabad152a0>"
      ]
     },
     "execution_count": 6,
     "metadata": {},
     "output_type": "execute_result"
    },
    {
     "data": {
      "image/png": "[encoded data removed]",
      "text/plain": [
       "<Figure size 432x288 with 1 Axes>"
      ]
     },
     "metadata": {
      "needs_background": "light"
     },
     "output_type": "display_data"
    }
   ],
   "source": [
    "d = np.arange(0, 1.001, 0.001)\n",
    "\n",
    "a1 = 0.5\n",
    "limit_CS = cov_limit_CS(a1, d)\n",
    "limit_upper = cov_upper_limit(a1, d)\n",
    "limit_lower = cov_lower_limit(a1, d)\n",
    "\n",
    "\n",
    "plot_rectangle(d, limit_CS, limit_upper, limit_lower, c1=\"green\", label_fill=\"Grassmann\", alpha1=0.5)\n",
    "\n",
    "\n",
    "######################################################################################3\n",
    "limit_upper = upper_limit_DG(d, a1)\n",
    "limit_lower = lower_limit_DG(d, a1)\n",
    "\n",
    "\n",
    "plt.title(f\"$p_1={a1}$\")\n",
    "\n",
    "plt.axhline(0, color=\"grey\", ls=\"-\", alpha=0.5)\n",
    "plot_rectangle(\n",
    "    d,\n",
    "    limit_CS,\n",
    "    limit_upper,\n",
    "    limit_lower,\n",
    "    c1=\"orange\",\n",
    "    label_fill=\"DG\",\n",
    "    labels=False,\n",
    "    alpha1=0.2,\n",
    "    c_upper=\"black\",\n",
    "    c_lower=\"black\",\n",
    ")\n",
    "\n",
    "\n",
    "plt.ylim(-0.3, 0.3)\n",
    "plt.xlabel(\"$p_2$\")\n",
    "plt.ylabel(\"valid Cov($X_1$,$X_2$ | $p_1$ ) \")\n",
    "sns.despine()\n",
    "plt.legend(loc=\"center left\", bbox_to_anchor=(1, 0.5))"
   ]
  },
  {
   "cell_type": "markdown",
   "id": "0092324e-4aa1-4f0b-8b41-2bace468a52f",
   "metadata": {},
   "source": [
    "## marginal"
   ]
  },
  {
   "cell_type": "markdown",
   "id": "09a78082-20c2-4ed4-a6e2-659abdac7b30",
   "metadata": {},
   "source": [
    "$$ \\begin{pmatrix} a&b \\\\ c&d \\end{pmatrix}$$\n",
    "\n",
    "$x_R = x_1$\n",
    "\n",
    "$\\Rightarrow p(x_R)=a^{x_r} \\cdot (1-a)^{1-x_R}$"
   ]
  }
 ],
 "metadata": {
  "kernelspec": {
   "display_name": "Python 3.10.4 ('base_env')",
   "language": "python",
   "name": "python3"
  },
  "language_info": {
   "codemirror_mode": {
    "name": "ipython",
    "version": 3
   },
   "file_extension": ".py",
   "mimetype": "text/x-python",
   "name": "python",
   "nbconvert_exporter": "python",
   "pygments_lexer": "ipython3",
   "version": "3.10.4"
  },
  "vscode": {
   "interpreter": {
    "hash": "312d46ca20f3fd7bb8f2bab7588143b9a3f54e1739bfafbc0af59f3e485e54a1"
   }
  }
 },
 "nbformat": 4,
 "nbformat_minor": 5
}
