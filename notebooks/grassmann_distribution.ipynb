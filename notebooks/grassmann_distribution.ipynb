{
 "cells": [
  {
   "cell_type": "code",
   "execution_count": 9,
   "id": "c2b4a56d-3f9a-4215-91c0-16a1bd05e62e",
   "metadata": {},
   "outputs": [
    {
     "name": "stdout",
     "output_type": "stream",
     "text": [
      "The autoreload extension is already loaded. To reload it, use:\n",
      "  %reload_ext autoreload\n"
     ]
    }
   ],
   "source": [
    "%load_ext autoreload\n",
    "%autoreload 2\n",
    "\n",
    "\n",
    "import torch\n",
    "\n",
    "import matplotlib.pyplot as plt\n",
    "\n",
    "\n",
    "from grassmann_distribution.GrassmannDistribution import GrassmannBinary\n",
    "from grassmann_distribution.fit_grassmann import (\n",
    "    EstimateGrassmann,\n",
    "    EstimateGrassmannMomentMatching,\n",
    "    train_EstimateGrassmann,\n",
    ")\n",
    "from grassmann_distribution.utils import check_valid_sigma, _sigma"
   ]
  },
  {
   "cell_type": "markdown",
   "id": "454d7304",
   "metadata": {},
   "source": [
    "## Define a distribution"
   ]
  },
  {
   "cell_type": "code",
   "execution_count": 10,
   "id": "ec33fdb8-275f-4bc3-b6a1-1d2ddae5d2eb",
   "metadata": {},
   "outputs": [],
   "source": [
    "\"\"\"\n",
    "test for arbitrary sigma\n",
    "\"\"\"\n",
    "# specify dimension\n",
    "dim = 3\n",
    "\n",
    "# specify sigma\n",
    "s = torch.eye(dim) * torch.tensor([0.8, 0.5, 0.4])\n",
    "\n",
    "s[0, 1] = 0.04**0.5\n",
    "s[0, 2] = 0.03**0.5\n",
    "s[1, 2] = 0.03**0.5\n",
    "\n",
    "\n",
    "for i in range(dim):\n",
    "    for j in range(i + 1, dim):\n",
    "        s[j, i] = s[i, j]\n",
    "\n",
    "\n",
    "s[0, 1] = -s[1, 0]\n",
    "s[2, 1] = -s[2, 1]\n",
    "\n",
    "gr = GrassmannBinary(s)"
   ]
  },
  {
   "cell_type": "code",
   "execution_count": 11,
   "id": "3c8af622",
   "metadata": {},
   "outputs": [
    {
     "name": "stdout",
     "output_type": "stream",
     "text": [
      "tensor([[ 0.8500, -0.3400, -0.0700,  0.1600, -0.0600],\n",
      "        [-0.1100,  0.4600,  0.0600, -0.0900, -0.0500],\n",
      "        [-0.1600, -0.4200,  0.7400,  0.6600, -0.2800],\n",
      "        [ 0.0100, -0.0800, -0.1300,  0.7000, -0.3000],\n",
      "        [ 0.0200,  0.1500, -0.0400,  0.2300,  0.8000]])\n"
     ]
    }
   ],
   "source": [
    "# or on loaded sigma\n",
    "dim = 5\n",
    "gr = GrassmannBinary(_sigma)\n",
    "print(gr.sigma)"
   ]
  },
  {
   "cell_type": "code",
   "execution_count": 67,
   "id": "2aae5ff4",
   "metadata": {},
   "outputs": [
    {
     "name": "stdout",
     "output_type": "stream",
     "text": [
      "(tensor(True), tensor([0.5029, 0.3295, 0.6763, 1.5434, 0.3064, 0.0173, 1.4046]))\n",
      "sigma:\n",
      " tensor([[ 0.8000, -0.2000,  0.1732],\n",
      "        [ 0.2000,  0.5000,  0.1732],\n",
      "        [ 0.1732, -0.1732,  0.4000]])\n",
      "gr cov: \n",
      " tensor([[ 0.1600,  0.0400, -0.0300],\n",
      "        [ 0.0400,  0.2500,  0.0300],\n",
      "        [-0.0300,  0.0300,  0.2400]])\n",
      "gr corr: \n",
      " tensor([[ 1.0000,  0.2000, -0.1531],\n",
      "        [ 0.2000,  1.0000,  0.1225],\n",
      "        [-0.1531,  0.1225,  1.0000]])\n",
      "gr mean: \n",
      " tensor([0.8000, 0.5000, 0.4000])\n"
     ]
    }
   ],
   "source": [
    "# check sigma and print some properties\n",
    "\n",
    "print(check_valid_sigma(gr.sigma, return_dets=True))\n",
    "print(\"sigma:\\n\", gr.sigma)\n",
    "\n",
    "print(\"gr cov: \\n\", gr.cov())\n",
    "print(\"gr corr: \\n\", gr.corr())\n",
    "print(\"gr mean: \\n\", gr.mean())"
   ]
  },
  {
   "cell_type": "code",
   "execution_count": 68,
   "id": "82573b9b-bce0-49c2-b0e2-3614b0cc3cec",
   "metadata": {},
   "outputs": [],
   "source": [
    "# sample from this distribution\n",
    "samples = gr.sample(10_000)"
   ]
  },
  {
   "cell_type": "markdown",
   "id": "06524a2c",
   "metadata": {},
   "source": [
    "## Fit a distribution\n",
    "1. by moment matching\n",
    "2. as NN"
   ]
  },
  {
   "cell_type": "code",
   "execution_count": 69,
   "id": "0a4eb265",
   "metadata": {},
   "outputs": [
    {
     "name": "stdout",
     "output_type": "stream",
     "text": [
      "fitted sigma: tensor([[ 0.7976, -0.1992,  0.1657],\n",
      "        [ 0.1992,  0.4979, -0.1710],\n",
      "        [ 0.1657,  0.1710,  0.4004]])\n",
      "fitted cov: tensor([[ 0.1614,  0.0397, -0.0275],\n",
      "        [ 0.0397,  0.2500,  0.0292],\n",
      "        [-0.0275,  0.0292,  0.2401]])\n"
     ]
    }
   ],
   "source": [
    "# 1. moment matching\n",
    "\n",
    "# compute moments\n",
    "mean1 = samples.mean(0)\n",
    "cov1 = torch.cov(samples.T)\n",
    "\n",
    "# estimate quasi symmetric sigma\n",
    "sigma_mm = EstimateGrassmannMomentMatching(mean1, cov1).construct_sigma(verbose=True)\n",
    "\n",
    "\n",
    "print(\"fitted sigma:\", sigma_mm)\n",
    "print(\"fitted cov:\", GrassmannBinary.cov_grassmann(sigma_mm))"
   ]
  },
  {
   "cell_type": "code",
   "execution_count": 81,
   "id": "9213b74d-4891-4ad7-b467-a7fd5854cc1d",
   "metadata": {},
   "outputs": [
    {
     "name": "stdout",
     "output_type": "stream",
     "text": [
      "tensor([0.1951, 0.8609, 0.5218])\n",
      "tensor([[1.0000, 0.0133, 0.0943],\n",
      "        [0.0133, 1.0000, 0.0029],\n",
      "        [0.0943, 0.0029, 1.0000]])\n",
      "tensor([[ 0.1951, -0.0208,  0.1474],\n",
      "        [ 0.0874,  0.8609,  0.0131],\n",
      "        [-0.1266, -0.0384,  0.5218]])\n"
     ]
    }
   ],
   "source": [
    "# 2. with NN\n",
    "\n",
    "model = EstimateGrassmann(dim, init_on_samples=False, samples_init=samples)\n",
    "\n",
    "# look into initialization\n",
    "gr_init = GrassmannBinary(model.sigma.detach())\n",
    "print(gr_init.mean())\n",
    "print(gr_init.corr())\n",
    "print(gr_init.sigma)"
   ]
  },
  {
   "cell_type": "code",
   "execution_count": 78,
   "id": "2500bb65-bea0-4607-9d92-1193d55925bc",
   "metadata": {},
   "outputs": [
    {
     "name": "stdout",
     "output_type": "stream",
     "text": [
      "Started training...\n",
      "data shape of one batch: torch.Size([10000, 3])\n",
      "step [1] loss: nan \n",
      "step [101] loss: 1.970 \n",
      "step [201] loss: 1.892 \n",
      "step [301] loss: 1.865 \n",
      "step [401] loss: 1.860 \n",
      "step [501] loss: 1.857 \n",
      "step [601] loss: 1.856 \n",
      "step [701] loss: 1.855 \n",
      "step [801] loss: 1.854 \n",
      "step [901] loss: 1.854 \n",
      "Finished Training.\n"
     ]
    }
   ],
   "source": [
    "# train network\n",
    "loss1 = train_EstimateGrassmann(model, samples, verbose=True, batch_size=10_000, steps=1000)"
   ]
  },
  {
   "cell_type": "code",
   "execution_count": 79,
   "id": "92dad0c8",
   "metadata": {},
   "outputs": [
    {
     "data": {
      "text/plain": [
       "[<matplotlib.lines.Line2D at 0x7f7b573c1c60>]"
      ]
     },
     "execution_count": 79,
     "metadata": {},
     "output_type": "execute_result"
    },
    {
     "data": {
      "image/png": "[encoded data removed]",
      "text/plain": [
       "<Figure size 432x288 with 1 Axes>"
      ]
     },
     "metadata": {
      "needs_background": "light"
     },
     "output_type": "display_data"
    }
   ],
   "source": [
    "plt.plot(loss1)"
   ]
  },
  {
   "cell_type": "code",
   "execution_count": 76,
   "id": "f24b1100-0100-401c-a213-b517283d9010",
   "metadata": {},
   "outputs": [
    {
     "name": "stdout",
     "output_type": "stream",
     "text": [
      "tensor([0.7976, 0.4938, 0.3992], dtype=torch.float64)\n",
      "tensor([[ 1.0000,  0.2365, -0.1894],\n",
      "        [ 0.2365,  1.0000, -0.0050],\n",
      "        [-0.1894, -0.0050,  1.0000]])\n",
      "tensor([[ 0.7976, -0.1508,  0.0986],\n",
      "        [ 0.3150,  0.4938, -0.0439],\n",
      "        [ 0.3781, -0.0281,  0.3992]], dtype=torch.float64)\n"
     ]
    }
   ],
   "source": [
    "gr_train = GrassmannBinary(model.sigma.detach())\n",
    "print(gr_train.mean())\n",
    "print(gr_train.corr())\n",
    "print(gr_train.sigma)"
   ]
  }
 ],
 "metadata": {
  "kernelspec": {
   "display_name": "Python 3.10.4 ('base_env')",
   "language": "python",
   "name": "python3"
  },
  "language_info": {
   "codemirror_mode": {
    "name": "ipython",
    "version": 3
   },
   "file_extension": ".py",
   "mimetype": "text/x-python",
   "name": "python",
   "nbconvert_exporter": "python",
   "pygments_lexer": "ipython3",
   "version": "3.10.4"
  },
  "vscode": {
   "interpreter": {
    "hash": "312d46ca20f3fd7bb8f2bab7588143b9a3f54e1739bfafbc0af59f3e485e54a1"
   }
  }
 },
 "nbformat": 4,
 "nbformat_minor": 5
}
