{
 "cells": [
  {
   "cell_type": "code",
   "execution_count": 1,
   "id": "c2b4a56d-3f9a-4215-91c0-16a1bd05e62e",
   "metadata": {},
   "outputs": [],
   "source": [
    "%load_ext autoreload\n",
    "%autoreload 2\n",
    "\n",
    "import numpy as np\n",
    "import scipy as scp\n",
    "\n",
    "import torch\n",
    "from torch.nn import functional as F\n",
    "\n",
    "\n",
    "import matplotlib.pyplot as plt\n",
    "\n",
    "from grassmann_distribution.GrassmannDistribution import MoGrassmannBinary\n",
    "from grassmann_distribution.fit_grassmann import  train_EstimateGrassmann, EstimateMoGrassmann \n",
    "from grassmann_distribution.utils import _sigma, check_valid_sigma\n"
   ]
  },
  {
   "cell_type": "code",
   "execution_count": 2,
   "id": "ec33fdb8-275f-4bc3-b6a1-1d2ddae5d2eb",
   "metadata": {},
   "outputs": [
    {
     "name": "stdout",
     "output_type": "stream",
     "text": [
      "(tensor(True), tensor([9.0000, 0.4286, 0.4286, 9.0000, 1.0000, 3.8571, 3.8571]))\n",
      "(tensor(True), tensor([0.2500, 0.8182, 6.2727, 0.2500, 1.0000, 0.2045, 1.5682]))\n",
      "sigma:\n",
      " tensor([[[ 0.5000,  0.3162,  0.0000],\n",
      "         [-0.3162,  0.5000,  0.0000],\n",
      "         [-0.0000, -0.0000,  0.1000]],\n",
      "\n",
      "        [[ 0.8000,  0.2236,  0.0000],\n",
      "         [ 0.2236,  0.2000,  0.0000],\n",
      "         [ 0.0000,  0.0000,  0.8000]]])\n",
      "gr cov: \n",
      " tensor([[ 0.1924, -0.0344,  0.0336],\n",
      "        [-0.0344,  0.1924, -0.0336],\n",
      "        [ 0.0336, -0.0336,  0.2244]])\n",
      "gr corr: \n",
      " tensor([[ 1.0000, -0.1788,  0.1617],\n",
      "        [-0.1788,  1.0000, -0.1617],\n",
      "        [ 0.1617, -0.1617,  1.0000]])\n"
     ]
    }
   ],
   "source": [
    "\"\"\"\n",
    "test for arbitrary sigma\n",
    "\"\"\"\n",
    "dim = 3 # dimension\n",
    "nc = 2 # number of components\n",
    "\n",
    "# mixing coefficient (should some up to 1)\n",
    "mixing_p = torch.ones(nc)\n",
    "mixing_p[0]= 0.2\n",
    "mixing_p[1]= 0.8\n",
    "\n",
    "# define sigmas\n",
    "\n",
    "# means\n",
    "s0 =   torch.eye(dim) *torch.tensor([0.5,0.5,0.1])\n",
    "s1 = torch.eye(dim) * torch.tensor([0.8,0.2,0.8])\n",
    "\n",
    "# covs\n",
    "s0[0,1] = 0.1 **0.5\n",
    "s1[0,1] = 0.05 **0.5\n",
    "for i in range(dim):\n",
    "    for j in range(i+1,dim):\n",
    "        s0[j,i] = -s0[i,j]\n",
    "        s1[j,i] = s1[i,j]\n",
    "        \n",
    "sigma = torch.stack([s0,s1])\n",
    "\n",
    "   \n",
    "print(check_valid_sigma(sigma[0],return_dets=True))\n",
    "print(check_valid_sigma(sigma[1],return_dets=True))\n",
    "print(\"sigma:\\n\",sigma)\n",
    "\n",
    "gr = MoGrassmannBinary(sigma,mixing_p)\n",
    "print(\"gr cov: \\n\",gr.cov())\n",
    "print(\"gr corr: \\n\",gr.corr())"
   ]
  },
  {
   "cell_type": "code",
   "execution_count": 5,
   "id": "3e2084f8-f9b2-4118-b00e-726d62449f89",
   "metadata": {},
   "outputs": [],
   "source": [
    "# sample\n",
    "samples = gr.sample(100_000)"
   ]
  },
  {
   "cell_type": "code",
   "execution_count": 6,
   "id": "e67f4ca5-935b-401b-8965-6024b820e44f",
   "metadata": {},
   "outputs": [
    {
     "data": {
      "text/plain": [
       "tensor([[ 0.1921, -0.0357,  0.0339],\n",
       "        [-0.0357,  0.1929, -0.0354],\n",
       "        [ 0.0339, -0.0354,  0.2250]])"
      ]
     },
     "execution_count": 6,
     "metadata": {},
     "output_type": "execute_result"
    }
   ],
   "source": [
    "# compare cov\n",
    "torch.cov(samples.T)"
   ]
  },
  {
   "cell_type": "code",
   "execution_count": 7,
   "id": "c92cb877-784f-4dc7-a93a-07ec320941c4",
   "metadata": {},
   "outputs": [
    {
     "data": {
      "text/plain": [
       "tensor([0.4446, 0.0774, 0.0774, 0.4446, 0.0774, 0.4446, 0.4446, 0.4446, 0.1374,\n",
       "        0.0774])"
      ]
     },
     "execution_count": 7,
     "metadata": {},
     "output_type": "execute_result"
    }
   ],
   "source": [
    "# compute prob of samples \n",
    "gr.prob(samples[:10])"
   ]
  },
  {
   "cell_type": "markdown",
   "id": "da3efb53",
   "metadata": {},
   "source": [
    "## Fit a moGr"
   ]
  },
  {
   "cell_type": "code",
   "execution_count": 8,
   "id": "e8104204-fc7f-409f-9640-39bd8a3840f0",
   "metadata": {},
   "outputs": [],
   "source": [
    "# estimate class\n",
    "dim = 3\n",
    "nc = 2 # number of components\n",
    "model = EstimateMoGrassmann(dim,nc, samples_init=samples, init_on_samples=False)\n"
   ]
  },
  {
   "cell_type": "code",
   "execution_count": 9,
   "id": "995522e7-35ae-4de5-9a68-f99c37f2dae0",
   "metadata": {},
   "outputs": [
    {
     "name": "stdout",
     "output_type": "stream",
     "text": [
      "Started training...\n",
      "data shape of one batch: torch.Size([10000, 3])\n",
      "step [1] loss: nan \n",
      "step [101] loss: 1.883 \n",
      "step [201] loss: 1.803 \n",
      "step [301] loss: 1.767 \n",
      "step [401] loss: 1.752 \n",
      "step [501] loss: 1.745 \n",
      "step [601] loss: 1.740 \n",
      "step [701] loss: 1.738 \n",
      "step [801] loss: 1.737 \n",
      "step [901] loss: 1.737 \n",
      "step [1001] loss: 1.737 \n",
      "step [1101] loss: 1.737 \n",
      "step [1201] loss: 1.735 \n",
      "step [1301] loss: 1.735 \n",
      "step [1401] loss: 1.734 \n",
      "step [1501] loss: 1.735 \n",
      "step [1601] loss: 1.735 \n",
      "step [1701] loss: 1.735 \n",
      "step [1801] loss: 1.734 \n",
      "step [1901] loss: 1.735 \n",
      "Finished Training.\n"
     ]
    }
   ],
   "source": [
    "loss = train_EstimateGrassmann(model,samples, batch_size=10_000,steps=1_000)"
   ]
  },
  {
   "cell_type": "code",
   "execution_count": 10,
   "id": "89fb2bc2-6efb-4966-b2cc-b61a53ce2f97",
   "metadata": {},
   "outputs": [
    {
     "data": {
      "text/plain": [
       "[<matplotlib.lines.Line2D at 0x7f94f8b4c880>]"
      ]
     },
     "execution_count": 10,
     "metadata": {},
     "output_type": "execute_result"
    },
    {
     "data": {
      "image/png": "[encoded data removed]",
      "text/plain": [
       "<Figure size 432x288 with 1 Axes>"
      ]
     },
     "metadata": {
      "needs_background": "light"
     },
     "output_type": "display_data"
    }
   ],
   "source": [
    "plt.plot(loss)"
   ]
  },
  {
   "cell_type": "code",
   "execution_count": 11,
   "id": "8fbfffe6",
   "metadata": {},
   "outputs": [],
   "source": [
    "gr_fit = MoGrassmannBinary(model.sigma.detach(), model.p_mixing.detach())"
   ]
  },
  {
   "cell_type": "code",
   "execution_count": 12,
   "id": "19f99b58-910f-486c-bd54-28b51f6aba35",
   "metadata": {},
   "outputs": [
    {
     "name": "stdout",
     "output_type": "stream",
     "text": [
      "tensor([[ 0.1924, -0.0344,  0.0336],\n",
      "        [-0.0344,  0.1924, -0.0336],\n",
      "        [ 0.0336, -0.0336,  0.2244]])\n",
      "tensor([[ 0.1923, -0.0354,  0.0341],\n",
      "        [-0.0354,  0.1931, -0.0357],\n",
      "        [ 0.0341, -0.0357,  0.2252]])\n"
     ]
    }
   ],
   "source": [
    "# compare cov\n",
    "print(gr.cov())\n",
    "print(gr_fit.cov())"
   ]
  },
  {
   "cell_type": "code",
   "execution_count": 13,
   "id": "97545539-74aa-45d3-95dd-1ff8990b0015",
   "metadata": {},
   "outputs": [
    {
     "name": "stdout",
     "output_type": "stream",
     "text": [
      "tensor([0.7400, 0.2600, 0.6600])\n",
      "tensor([0.7402, 0.2614, 0.6574])\n"
     ]
    }
   ],
   "source": [
    "# compare means\n",
    "print(gr.mean())\n",
    "print(gr_fit.mean())"
   ]
  },
  {
   "cell_type": "code",
   "execution_count": 16,
   "id": "ee112992-afd7-4ce3-8c74-4b5c2bccb58a",
   "metadata": {},
   "outputs": [
    {
     "name": "stdout",
     "output_type": "stream",
     "text": [
      "tensor([0.2000, 0.8000])\n",
      "tensor([0.2668, 0.7332], grad_fn=<SoftmaxBackward0>)\n"
     ]
    }
   ],
   "source": [
    "# compare mixing (can be different even for correct fitting)\n",
    "print(gr.mixing_p)\n",
    "print(model.p_mixing)"
   ]
  },
  {
   "cell_type": "code",
   "execution_count": 17,
   "id": "04c5d760-8ccf-4543-b2f1-5d8606d6c94f",
   "metadata": {},
   "outputs": [
    {
     "name": "stdout",
     "output_type": "stream",
     "text": [
      "tensor([[[ 0.5000,  0.3162,  0.0000],\n",
      "         [-0.3162,  0.5000,  0.0000],\n",
      "         [-0.0000, -0.0000,  0.1000]],\n",
      "\n",
      "        [[ 0.8000,  0.2236,  0.0000],\n",
      "         [ 0.2236,  0.2000,  0.0000],\n",
      "         [ 0.0000,  0.0000,  0.8000]]])\n",
      "tensor([[[ 0.3884, -0.1393,  0.1424],\n",
      "         [-0.0451,  0.5157, -0.1202],\n",
      "         [ 0.4980,  0.2851,  0.4831]],\n",
      "\n",
      "        [[ 0.8683, -0.0181,  0.0613],\n",
      "         [-0.0873,  0.1689, -0.2814],\n",
      "         [-0.6833, -0.1391,  0.7208]]], grad_fn=<CopySlices>)\n"
     ]
    }
   ],
   "source": [
    "# compare sigmas\n",
    "print(sigma)\n",
    "print(model.sigma)"
   ]
  }
 ],
 "metadata": {
  "kernelspec": {
   "display_name": "Python 3.10.4 ('base_env')",
   "language": "python",
   "name": "python3"
  },
  "language_info": {
   "codemirror_mode": {
    "name": "ipython",
    "version": 3
   },
   "file_extension": ".py",
   "mimetype": "text/x-python",
   "name": "python",
   "nbconvert_exporter": "python",
   "pygments_lexer": "ipython3",
   "version": "3.10.4"
  },
  "vscode": {
   "interpreter": {
    "hash": "312d46ca20f3fd7bb8f2bab7588143b9a3f54e1739bfafbc0af59f3e485e54a1"
   }
  }
 },
 "nbformat": 4,
 "nbformat_minor": 5
}
